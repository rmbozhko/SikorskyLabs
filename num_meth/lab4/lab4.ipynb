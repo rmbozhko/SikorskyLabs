{
 "cells": [
  {
   "cell_type": "markdown",
   "id": "4492fbde",
   "metadata": {},
   "source": [
    "Значення точок даних у вузлах інтерполяції: {-3, -1, 1, 3, 5}"
   ]
  },
  {
   "cell_type": "code",
   "execution_count": 54,
   "id": "3fa55a36",
   "metadata": {},
   "outputs": [],
   "source": [
    "X = [-3, -1, 1, 3, 5]"
   ]
  },
  {
   "cell_type": "code",
   "execution_count": 55,
   "id": "73bc0398",
   "metadata": {},
   "outputs": [],
   "source": [
    "import math\n",
    "import numpy as np \n",
    "import matplotlib.pyplot as plt\n",
    "\n",
    "f = lambda x: math.sin(x) + np.cbrt(2 * x)"
   ]
  },
  {
   "cell_type": "code",
   "execution_count": 56,
   "id": "ac380a12",
   "metadata": {},
   "outputs": [
    {
     "data": {
      "text/plain": [
       "[-1.9582406008920066,\n",
       " -2.1013920347027693,\n",
       " 2.1013920347027693,\n",
       " 1.9582406008920066,\n",
       " 1.1955104153687452]"
      ]
     },
     "execution_count": 56,
     "metadata": {},
     "output_type": "execute_result"
    }
   ],
   "source": [
    "y = [f(x) for x in X]\n",
    "y"
   ]
  },
  {
   "cell_type": "code",
   "execution_count": 65,
   "id": "f1ac5005",
   "metadata": {
    "scrolled": true
   },
   "outputs": [
    {
     "data": {
      "image/png": "[encoded data removed]",
      "text/plain": [
       "<Figure size 432x288 with 1 Axes>"
      ]
     },
     "metadata": {
      "needs_background": "light"
     },
     "output_type": "display_data"
    }
   ],
   "source": [
    "x_new = np.linspace(np.min(X), np.max(X), 100)\n",
    "y_new = [f(x) for x in x_new]\n",
    "plt.plot(X, y, 'o', x_new, y_new)\n",
    "plt.title(r'Графік функції $f(x) = \\sin (x) + \\sqrt[3]{2 \\cdot x}$', fontsize=10)\n",
    "plt.xlabel('X')\n",
    "plt.ylabel('Y')\n",
    "plt.grid(True)\n",
    "plt.show()"
   ]
  },
  {
   "cell_type": "code",
   "execution_count": 58,
   "id": "a274c497",
   "metadata": {},
   "outputs": [
    {
     "data": {
      "text/latex": [
       "Знайдемо інтерполяційний многочлен Лагранжа.\n",
       "$$\\newline$$\n",
       "Для початку запишемо формулу для інтерполяційного полінома у формі Лагранжа:\n",
       "    $$\n",
       "    L(x) = y_0\\frac{(x-x_1)(x-x_2)(x-x_3)(x-x_4)}{(x_0-x_1)(x_0-x_2)(x_0-x_3)(x_0-x_4)} + \n",
       "            y_1\\frac{(x-x_0)(x-x_2)(x-x_3)(x-x_4)}{(x_1-x_0)(x_1-x_2)(x_1-x_3)(x_1-x_4)} + \n",
       "            y_2\\frac{(x-x_0)(x-x_1)(x-x_3)(x-x_4)}{(x_2-x_0)(x_2-x_1)(x_2-x_3)(x_2-x_4)} +\n",
       "            y_3\\frac{(x-x_0)(x-x_1)(x-x_2)(x-x_4)}{(x_3-x_0)(x_3-x_1)(x_3-x_2)(x_3-x_4)} + \n",
       "            y_4\\frac{(x-x_0)(x-x_1)(x-x_2)(x-x_3)}{(x_4-x_0)(x_4-x_1)(x_4-x_2)(x_4-x_3)} =            \n",
       "    $$\n",
       "Підставимо значення вузлів інтеполяції:\n",
       "    $$ = -1.95824 \\cdot \\frac{(x+1)(x-1)(x-3)(x-5)}{(-3+1)(-3-1)(-3-3)(-3-5)} + \n",
       "            (-2.10139) \\cdot \\frac{(x+3)(x-1)(x-3)(x-5)}{(-1+3)(-1-1)(-1-3)(-1-5)} + \n",
       "            2.10139 \\cdot \\frac{(x+3)(x+1)(x-3)(x-5)}{(1+3)(1+1)(1-3)(1-5)} +\n",
       "            1.95824 \\cdot \\frac{(x+3)(x+1)(x-1)(x-5)}{(3+3)(3+1)(3-1)(3-5)} + \n",
       "            1.19551 \\cdot \\frac{(x+3)(x+1)(x-1)(x-3)}{(5+3)(5+1)(5-1)(5-3)} =\n",
       "    $$\n",
       "Виконаємо перетворення:\n",
       "    $$ = -1.95824 \\cdot \\frac{(x+1)(x-1)(x-3)(x-5)}{384} + \n",
       "        2.10139 \\cdot \\frac{(x+3)(x-1)(x-3)(x-5)}{96} +\n",
       "        2.10139 \\cdot \\frac{(x+3)(x+1)(x-3)(x-5)}{64} +\n",
       "        (-1.95824) \\cdot \\frac{(x+3)(x+1)(x-1)(x-5)}{96} +\n",
       "        1.19551 \\cdot \\frac{(x+3)(x+1)(x-1)(x-3)}{384}\n",
       "    $$\n",
       "Інтерполяційний многочлен Лагранжа має вигляд:\n",
       "    $$\n",
       "        L(x) = 0.03233x^4 - 0.24674x^3 + 0.00495x^2 + 2.87348x - 2.66402\n",
       "    $$\n"
      ],
      "text/plain": [
       "<IPython.core.display.Latex object>"
      ]
     },
     "metadata": {},
     "output_type": "display_data"
    }
   ],
   "source": [
    "%%latex\n",
    "Знайдемо інтерполяційний многочлен Лагранжа.\n",
    "$$\\newline$$\n",
    "Для початку запишемо формулу для інтерполяційного полінома у формі Лагранжа:\n",
    "    $$\n",
    "    L(x) = y_0\\frac{(x-x_1)(x-x_2)(x-x_3)(x-x_4)}{(x_0-x_1)(x_0-x_2)(x_0-x_3)(x_0-x_4)} + \n",
    "            y_1\\frac{(x-x_0)(x-x_2)(x-x_3)(x-x_4)}{(x_1-x_0)(x_1-x_2)(x_1-x_3)(x_1-x_4)} + \n",
    "            y_2\\frac{(x-x_0)(x-x_1)(x-x_3)(x-x_4)}{(x_2-x_0)(x_2-x_1)(x_2-x_3)(x_2-x_4)} +\n",
    "            y_3\\frac{(x-x_0)(x-x_1)(x-x_2)(x-x_4)}{(x_3-x_0)(x_3-x_1)(x_3-x_2)(x_3-x_4)} + \n",
    "            y_4\\frac{(x-x_0)(x-x_1)(x-x_2)(x-x_3)}{(x_4-x_0)(x_4-x_1)(x_4-x_2)(x_4-x_3)} =            \n",
    "    $$\n",
    "Підставимо значення вузлів інтеполяції:\n",
    "    $$ = -1.95824 \\cdot \\frac{(x+1)(x-1)(x-3)(x-5)}{(-3+1)(-3-1)(-3-3)(-3-5)} + \n",
    "            (-2.10139) \\cdot \\frac{(x+3)(x-1)(x-3)(x-5)}{(-1+3)(-1-1)(-1-3)(-1-5)} + \n",
    "            2.10139 \\cdot \\frac{(x+3)(x+1)(x-3)(x-5)}{(1+3)(1+1)(1-3)(1-5)} +\n",
    "            1.95824 \\cdot \\frac{(x+3)(x+1)(x-1)(x-5)}{(3+3)(3+1)(3-1)(3-5)} + \n",
    "            1.19551 \\cdot \\frac{(x+3)(x+1)(x-1)(x-3)}{(5+3)(5+1)(5-1)(5-3)} =\n",
    "    $$\n",
    "Виконаємо перетворення:\n",
    "    $$ = -1.95824 \\cdot \\frac{(x+1)(x-1)(x-3)(x-5)}{384} + \n",
    "        2.10139 \\cdot \\frac{(x+3)(x-1)(x-3)(x-5)}{96} +\n",
    "        2.10139 \\cdot \\frac{(x+3)(x+1)(x-3)(x-5)}{64} +\n",
    "        (-1.95824) \\cdot \\frac{(x+3)(x+1)(x-1)(x-5)}{96} +\n",
    "        1.19551 \\cdot \\frac{(x+3)(x+1)(x-1)(x-3)}{384}\n",
    "    $$\n",
    "Інтерполяційний многочлен Лагранжа має вигляд:\n",
    "    $$\n",
    "        L(x) = 0.03233x^4 - 0.24674x^3 + 0.00495x^2 + 2.87348x - 2.66402\n",
    "    $$"
   ]
  },
  {
   "cell_type": "code",
   "execution_count": 59,
   "id": "9085975e",
   "metadata": {},
   "outputs": [],
   "source": [
    "class LagrangePolynom:\n",
    "\n",
    "    def __init__(self, X, Y):\n",
    "        self.n = len(X)\n",
    "        self.X = np.array(X)\n",
    "        self.Y = np.array(Y)\n",
    "\n",
    "    def basis(self, x, j):\n",
    "        b = [(x - self.X[m]) / (self.X[j] - self.X[m])\n",
    "             for m in range(self.n) if m != j]\n",
    "        return np.prod(b, axis=0) * self.Y[j]\n",
    "\n",
    "    def interpolate(self, x):\n",
    "        b = [self.basis(x, j) for j in range(self.n)]\n",
    "        return np.sum(b, axis=0)"
   ]
  },
  {
   "cell_type": "code",
   "execution_count": 72,
   "id": "40a78c81",
   "metadata": {},
   "outputs": [
    {
     "data": {
      "image/png": "[encoded data removed]",
      "text/plain": [
       "<Figure size 432x288 with 1 Axes>"
      ]
     },
     "metadata": {
      "needs_background": "light"
     },
     "output_type": "display_data"
    }
   ],
   "source": [
    "lp = LagrangePolynom(X, y)\n",
    "xx = np.linspace(np.min(X), np.max(X), 100)\n",
    "plt.plot(X, y, 'o', xx, lp.interpolate(xx))\n",
    "plt.plot(x_new, y_new)\n",
    "plt.legend(['вузли інтерполяції', r'f(x)', r'L(x)'])\n",
    "plt.title(r'Порівняльний графік інтерполяційного поліному $L(x) та вихідної функції$', fontsize=10)\n",
    "plt.xlabel('X')\n",
    "plt.ylabel('Y')\n",
    "plt.grid(True)\n",
    "plt.show()"
   ]
  },
  {
   "cell_type": "code",
   "execution_count": null,
   "id": "dd67346e",
   "metadata": {},
   "outputs": [],
   "source": []
  }
 ],
 "metadata": {
  "kernelspec": {
   "display_name": "Python 3",
   "language": "python",
   "name": "python3"
  },
  "language_info": {
   "codemirror_mode": {
    "name": "ipython",
    "version": 3
   },
   "file_extension": ".py",
   "mimetype": "text/x-python",
   "name": "python",
   "nbconvert_exporter": "python",
   "pygments_lexer": "ipython3",
   "version": "3.8.8"
  }
 },
 "nbformat": 4,
 "nbformat_minor": 5
}
